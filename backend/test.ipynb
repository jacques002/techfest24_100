{
 "cells": [
  {
   "cell_type": "code",
   "execution_count": 30,
   "metadata": {},
   "outputs": [
    {
     "name": "stdout",
     "output_type": "stream",
     "text": [
      "Requirement already satisfied: requests in ./env/lib/python3.9/site-packages (2.31.0)\n",
      "Requirement already satisfied: idna<4,>=2.5 in ./env/lib/python3.9/site-packages (from requests) (3.6)\n",
      "Requirement already satisfied: urllib3<3,>=1.21.1 in ./env/lib/python3.9/site-packages (from requests) (2.2.0)\n",
      "Requirement already satisfied: charset-normalizer<4,>=2 in ./env/lib/python3.9/site-packages (from requests) (3.3.2)\n",
      "Requirement already satisfied: certifi>=2017.4.17 in ./env/lib/python3.9/site-packages (from requests) (2024.2.2)\n",
      "\u001b[33mWARNING: You are using pip version 22.0.4; however, version 24.0 is available.\n",
      "You should consider upgrading via the '/Users/jacquescogal/Documents/projects/techfest_backend/backend/env/bin/python3.9 -m pip install --upgrade pip' command.\u001b[0m\u001b[33m\n",
      "\u001b[0m[{'type': 'verb', 'definition': 'To cheer, to cheer up, to gladden, to make happy.'}, {'type': 'verb', 'definition': 'To excite, to thrill.'}, {'type': 'adjective', 'definition': 'Refreshingly thrilling.'}]\n"
     ]
    }
   ],
   "source": [
    "!pip install requests\n",
    "import requests\n",
    "from urllib.parse import quote\n",
    "encoded_phrase = quote(\"exhilarating\")\n",
    "url = f\"https://api.dictionaryapi.dev/api/v2/entries/en/{encoded_phrase}\"\n",
    "response = requests.get(url)\n",
    "json_data=response.json()\n",
    "# json_data=[{'word': 'test', 'phonetic': '/test/', 'phonetics': [{'text': '/test/', 'audio': 'https://api.dictionaryapi.dev/media/pronunciations/en/test-uk.mp3', 'sourceUrl': 'https://commons.wikimedia.org/w/index.php?curid=9014228', 'license': {'name': 'BY 3.0 US', 'url': 'https://creativecommons.org/licenses/by/3.0/us'}}, {'text': '/test/', 'audio': 'https://api.dictionaryapi.dev/media/pronunciations/en/test-us.mp3', 'sourceUrl': 'https://commons.wikimedia.org/w/index.php?curid=1197419', 'license': {'name': 'BY-SA 3.0', 'url': 'https://creativecommons.org/licenses/by-sa/3.0'}}], 'meanings': [{'partOfSpeech': 'noun', 'definitions': [{'definition': 'A challenge, trial.', 'synonyms': [], 'antonyms': []}, {'definition': 'A cupel or cupelling hearth in which precious metals are melted for trial and refinement.', 'synonyms': [], 'antonyms': []}, {'definition': '(academia) An examination, given often during the academic term.', 'synonyms': [], 'antonyms': []}, {'definition': 'A session in which a product or piece of equipment is examined under everyday or extreme conditions to evaluate its durability, etc.', 'synonyms': [], 'antonyms': []}, {'definition': '(normally “Test”) A Test match.', 'synonyms': [], 'antonyms': []}, {'definition': 'The external calciferous shell, or endoskeleton, of an echinoderm, e.g. sand dollars and sea urchins.', 'synonyms': [], 'antonyms': []}, {'definition': 'Testa; seed coat.', 'synonyms': [], 'antonyms': []}, {'definition': 'Judgment; distinction; discrimination.', 'synonyms': [], 'antonyms': []}], 'synonyms': ['examination', 'quiz'], 'antonyms': ['recess']}, {'partOfSpeech': 'verb', 'definitions': [{'definition': 'To challenge.', 'synonyms': [], 'antonyms': [], 'example': 'Climbing the mountain tested our stamina.'}, {'definition': 'To refine (gold, silver, etc.) in a test or cupel; to subject to cupellation.', 'synonyms': [], 'antonyms': []}, {'definition': 'To put to the proof; to prove the truth, genuineness, or quality of by experiment, or by some principle or standard; to try.', 'synonyms': [], 'antonyms': [], 'example': 'to test the soundness of a principle; to test the validity of an argument'}, {'definition': '(academics) To administer or assign an examination, often given during the academic term, to (somebody).', 'synonyms': [], 'antonyms': []}, {'definition': 'To place a product or piece of equipment under everyday and/or extreme conditions and examine it for its durability, etc.', 'synonyms': [], 'antonyms': []}, {'definition': 'To be shown to be by test.', 'synonyms': [], 'antonyms': [], 'example': 'He tested positive for cancer.'}, {'definition': 'To examine or try, as by the use of some reagent.', 'synonyms': [], 'antonyms': [], 'example': 'to test a solution by litmus paper'}], 'synonyms': [], 'antonyms': []}], 'license': {'name': 'CC BY-SA 3.0', 'url': 'https://creativecommons.org/licenses/by-sa/3.0'}, 'sourceUrls': ['https://en.wiktionary.org/wiki/test']}, {'word': 'test', 'phonetic': '/test/', 'phonetics': [{'text': '/test/', 'audio': 'https://api.dictionaryapi.dev/media/pronunciations/en/test-uk.mp3', 'sourceUrl': 'https://commons.wikimedia.org/w/index.php?curid=9014228', 'license': {'name': 'BY 3.0 US', 'url': 'https://creativecommons.org/licenses/by/3.0/us'}}, {'text': '/test/', 'audio': 'https://api.dictionaryapi.dev/media/pronunciations/en/test-us.mp3', 'sourceUrl': 'https://commons.wikimedia.org/w/index.php?curid=1197419', 'license': {'name': 'BY-SA 3.0', 'url': 'https://creativecommons.org/licenses/by-sa/3.0'}}], 'meanings': [{'partOfSpeech': 'noun', 'definitions': [{'definition': 'A witness.', 'synonyms': [], 'antonyms': []}], 'synonyms': [], 'antonyms': []}, {'partOfSpeech': 'verb', 'definitions': [{'definition': 'To attest (a document) legally, and date it.', 'synonyms': [], 'antonyms': []}, {'definition': 'To make a testament, or will.', 'synonyms': [], 'antonyms': []}], 'synonyms': [], 'antonyms': []}], 'license': {'name': 'CC BY-SA 3.0', 'url': 'https://creativecommons.org/licenses/by-sa/3.0'}, 'sourceUrls': ['https://en.wiktionary.org/wiki/test']}, {'word': 'test', 'phonetic': '/test/', 'phonetics': [{'text': '/test/', 'audio': 'https://api.dictionaryapi.dev/media/pronunciations/en/test-uk.mp3', 'sourceUrl': 'https://commons.wikimedia.org/w/index.php?curid=9014228', 'license': {'name': 'BY 3.0 US', 'url': 'https://creativecommons.org/licenses/by/3.0/us'}}, {'text': '/test/', 'audio': 'https://api.dictionaryapi.dev/media/pronunciations/en/test-us.mp3', 'sourceUrl': 'https://commons.wikimedia.org/w/index.php?curid=1197419', 'license': {'name': 'BY-SA 3.0', 'url': 'https://creativecommons.org/licenses/by-sa/3.0'}}], 'meanings': [{'partOfSpeech': 'noun', 'definitions': [{'definition': '(body building) testosterone', 'synonyms': [], 'antonyms': []}], 'synonyms': [], 'antonyms': []}], 'license': {'name': 'CC BY-SA 3.0', 'url': 'https://creativecommons.org/licenses/by-sa/3.0'}, 'sourceUrls': ['https://en.wiktionary.org/wiki/test']}]\n",
    "definitions=[]\n",
    "indexer=1\n",
    "for i in range(len(json_data)):\n",
    "    for j in range(len(json_data[i]['meanings'])):\n",
    "        for k in range(len(json_data[i]['meanings'][j]['definitions'])):\n",
    "            definitions.append({'id':indexer,'article':query,'type':json_data[i]['meanings'][j]['partOfSpeech'],'definition':json_data[i]['meanings'][j]['definitions'][k]['definition']})\n",
    "            indexer+=1\n",
    "print(definitions)"
   ]
  },
  {
   "cell_type": "code",
   "execution_count": 31,
   "metadata": {},
   "outputs": [
    {
     "ename": "NameError",
     "evalue": "name 'PydanticOutputParser' is not defined",
     "output_type": "error",
     "traceback": [
      "\u001b[0;31m---------------------------------------------------------------------------\u001b[0m",
      "\u001b[0;31mNameError\u001b[0m                                 Traceback (most recent call last)",
      "Cell \u001b[0;32mIn[31], line 1\u001b[0m\n\u001b[0;32m----> 1\u001b[0m action_output_parser \u001b[38;5;241m=\u001b[39m \u001b[43mPydanticOutputParser\u001b[49m(pydantic_object\u001b[38;5;241m=\u001b[39mStoryActionResponse)\n\u001b[1;32m      2\u001b[0m prompt \u001b[38;5;241m=\u001b[39m PromptTemplate(\n\u001b[1;32m      3\u001b[0m template\u001b[38;5;241m=\u001b[39m\u001b[38;5;124m\"\u001b[39m\u001b[38;5;130;01m\\n\u001b[39;00m\u001b[38;5;132;01m{format_instructions}\u001b[39;00m\u001b[38;5;130;01m\\n\u001b[39;00m\u001b[38;5;124m Fulfill this: \u001b[39m\u001b[38;5;132;01m{query}\u001b[39;00m\u001b[38;5;130;01m\\n\u001b[39;00m\u001b[38;5;124m\"\u001b[39m,\n\u001b[1;32m      4\u001b[0m input_variables\u001b[38;5;241m=\u001b[39m[\u001b[38;5;124m\"\u001b[39m\u001b[38;5;124mquery\u001b[39m\u001b[38;5;124m\"\u001b[39m],\n\u001b[1;32m      5\u001b[0m partial_variables\u001b[38;5;241m=\u001b[39m{\u001b[38;5;124m\"\u001b[39m\u001b[38;5;124mformat_instructions\u001b[39m\u001b[38;5;124m\"\u001b[39m: action_output_parser\u001b[38;5;241m.\u001b[39mget_format_instructions()},\n\u001b[1;32m      6\u001b[0m )\n\u001b[1;32m      7\u001b[0m formatted_prompt \u001b[38;5;241m=\u001b[39m prompt\u001b[38;5;241m.\u001b[39mformat_prompt(query\u001b[38;5;241m=\u001b[39m\u001b[38;5;124m\"\u001b[39m\u001b[38;5;124mFor now, suggest 3 possible actions for, me, the protagonist to take.\u001b[39m\u001b[38;5;124m\"\u001b[39m)\u001b[38;5;241m.\u001b[39mto_string()\n",
      "\u001b[0;31mNameError\u001b[0m: name 'PydanticOutputParser' is not defined"
     ]
    }
   ],
   "source": [
    "import requests\n",
    "from pydantic import BaseModel\n",
    "\n",
    "action_output_parser = PydanticOutputParser(pydantic_object=StoryActionResponse)\n",
    "prompt = PromptTemplate(\n",
    "template=\"\\n{format_instructions}\\n Fulfill this: {query}\\n\",\n",
    "input_variables=[\"query\"],\n",
    "partial_variables={\"format_instructions\": action_output_parser.get_format_instructions()},\n",
    ")\n",
    "formatted_prompt = prompt.format_prompt(query=\"For now, suggest 3 possible actions for, me, the protagonist to take.\").to_string()"
   ]
  }
 ],
 "metadata": {
  "kernelspec": {
   "display_name": "env",
   "language": "python",
   "name": "python3"
  },
  "language_info": {
   "codemirror_mode": {
    "name": "ipython",
    "version": 3
   },
   "file_extension": ".py",
   "mimetype": "text/x-python",
   "name": "python",
   "nbconvert_exporter": "python",
   "pygments_lexer": "ipython3",
   "version": "3.9.13"
  }
 },
 "nbformat": 4,
 "nbformat_minor": 2
}
